{
 "cells": [
  {
   "cell_type": "code",
   "execution_count": 2,
   "metadata": {},
   "outputs": [],
   "source": [
    "import math\n",
    "import torch\n",
    "import torch.nn as nn"
   ]
  },
  {
   "cell_type": "code",
   "execution_count": 16,
   "metadata": {},
   "outputs": [],
   "source": [
    "d_model = 4\n",
    "dropout = 0.5\n",
    "batch_first = True\n",
    "max_seq_len = 3\n",
    "\n",
    "dropout = nn.Dropout(p=dropout)\n",
    "\n",
    "\n",
    "# adapted from PyTorch tutorial\n",
    "position = torch.arange(max_seq_len).unsqueeze(1)\n",
    "\n",
    "div_term = torch.exp(torch.arange(0, d_model, 2) * (-math.log(10000.0) / d_model))\n",
    "\n",
    "if batch_first:\n",
    "    pe = torch.zeros(1, max_seq_len, d_model)\n",
    "\n",
    "    pe[0, :, 0::2] = torch.sin(position * div_term)\n",
    "\n",
    "    pe[0, :, 1::2] = torch.cos(position * div_term)\n",
    "else:\n",
    "    pe = torch.zeros(max_seq_len, 1, d_model)\n",
    "\n",
    "    pe[:, 0, 0::2] = torch.sin(position * div_term)\n",
    "\n",
    "    pe[:, 0, 1::2] = torch.cos(position * div_term)"
   ]
  },
  {
   "cell_type": "code",
   "execution_count": 14,
   "metadata": {},
   "outputs": [
    {
     "data": {
      "text/plain": [
       "tensor([[0],\n",
       "        [1],\n",
       "        [2]])"
      ]
     },
     "execution_count": 14,
     "metadata": {},
     "output_type": "execute_result"
    }
   ],
   "source": [
    "position"
   ]
  },
  {
   "cell_type": "code",
   "execution_count": 17,
   "metadata": {},
   "outputs": [
    {
     "data": {
      "text/plain": [
       "tensor([1.0000, 0.0100])"
      ]
     },
     "execution_count": 17,
     "metadata": {},
     "output_type": "execute_result"
    }
   ],
   "source": [
    "div_term"
   ]
  },
  {
   "cell_type": "code",
   "execution_count": 18,
   "metadata": {},
   "outputs": [
    {
     "data": {
      "text/plain": [
       "tensor([[0.0000, 0.0000],\n",
       "        [1.0000, 0.0100],\n",
       "        [2.0000, 0.0200]])"
      ]
     },
     "execution_count": 18,
     "metadata": {},
     "output_type": "execute_result"
    }
   ],
   "source": [
    "position * div_term"
   ]
  }
 ],
 "metadata": {
  "kernelspec": {
   "display_name": "Python 3.8.13 ('glycemic')",
   "language": "python",
   "name": "python3"
  },
  "language_info": {
   "codemirror_mode": {
    "name": "ipython",
    "version": 3
   },
   "file_extension": ".py",
   "mimetype": "text/x-python",
   "name": "python",
   "nbconvert_exporter": "python",
   "pygments_lexer": "ipython3",
   "version": "3.8.13"
  },
  "orig_nbformat": 4,
  "vscode": {
   "interpreter": {
    "hash": "6d0dcae67a12b8b9619dd471b03512d94702322f3cad871ea227bbeeb7b51bb5"
   }
  }
 },
 "nbformat": 4,
 "nbformat_minor": 2
}
