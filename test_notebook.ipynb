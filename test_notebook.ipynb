{
 "cells": [
  {
   "cell_type": "code",
   "execution_count": 1,
   "metadata": {},
   "outputs": [],
   "source": [
    "import sys\n",
    "sys.path.insert(2, '/home/gaurang/glycemic_control/code/src/')"
   ]
  },
  {
   "cell_type": "code",
   "execution_count": 2,
   "metadata": {},
   "outputs": [],
   "source": [
    "import pandas as pd\n",
    "import torch\n",
    "from torch.utils.data import DataLoader\n",
    "\n",
    "from src.constants import CONTINUOUS_COVARIATES_PROCESSED, STATIC_COLS, TARGET_COL\n",
    "from src.dataset import get_normalizing_scaler, df_to_patient_tensors, TransformerDataset\n",
    "from src.utils import get_patient_indices, generate_square_subsequent_mask\n",
    "from src.models.transformer import TimeSeriesTransformer\n"
   ]
  },
  {
   "cell_type": "code",
   "execution_count": 3,
   "metadata": {},
   "outputs": [],
   "source": [
    "# Hyperparams\n",
    "batch_size = 128\n",
    "\n",
    "## Params\n",
    "dim_val = 512\n",
    "n_heads = 8\n",
    "n_decoder_layers = 4\n",
    "n_encoder_layers = 4\n",
    "enc_seq_len = 3 # length of input given to encoder\n",
    "output_sequence_length = 1 # target sequence length. If hourly data and length = 48, you predict 2 days ahead\n",
    "window_size = enc_seq_len + output_sequence_length # used to slice data into sub-sequences\n",
    "step_size = 1 # Step size, i.e. how many time steps does the moving window move at each step\n",
    "in_features_encoder_linear_layer = 2048\n",
    "in_features_decoder_linear_layer = 2048\n",
    "max_seq_len = enc_seq_len\n",
    "batch_first = True"
   ]
  },
  {
   "cell_type": "code",
   "execution_count": 4,
   "metadata": {},
   "outputs": [],
   "source": [
    "# Define input variables \n",
    "exogenous_vars =  CONTINUOUS_COVARIATES_PROCESSED + STATIC_COLS # should contain strings. Each string must correspond to a column name\n",
    "input_variables = TARGET_COL + exogenous_vars\n",
    "target_idx = 0 # index position of target in batched trg_y\n",
    "\n",
    "input_size = len(input_variables)"
   ]
  },
  {
   "cell_type": "code",
   "execution_count": 5,
   "metadata": {},
   "outputs": [],
   "source": [
    "# Read data\n",
    "df_train = pd.read_csv('/home/gaurang/glycemic_control/data/glycaemia_project_csvs/processed_data/train_test_splits/v1_patients_split/train.csv')\n",
    "df_valid = pd.read_csv('/home/gaurang/glycemic_control/data/glycaemia_project_csvs/processed_data/train_test_splits/v1_patients_split/valid.csv')\n",
    "df_test = pd.read_csv('/home/gaurang/glycemic_control/data/glycaemia_project_csvs/processed_data/train_test_splits/v1_patients_split/test.csv')\n"
   ]
  },
  {
   "cell_type": "code",
   "execution_count": 6,
   "metadata": {},
   "outputs": [],
   "source": [
    "#df to patient tensor\n",
    "\n",
    "scaler = get_normalizing_scaler(df_train[input_variables])\n",
    "# X_train, y_train = df_to_patient_tensors(df_train, feature_cols=input_variables, target_col=TARGET_COL, scaler=scaler)\n",
    "X_valid, y_valid = df_to_patient_tensors(df_valid, feature_cols=input_variables, target_col=TARGET_COL, scaler=scaler)\n",
    "# X_test, y_test = df_to_patient_tensors(df_test, feature_cols=input_variables, target_col=TARGET_COL, scaler=scaler)"
   ]
  },
  {
   "cell_type": "code",
   "execution_count": 7,
   "metadata": {},
   "outputs": [],
   "source": [
    "valid_indices, num_valid_samples = get_patient_indices(y_valid, input_seq_len=enc_seq_len, forecast_len=output_sequence_length, step_size=step_size)"
   ]
  },
  {
   "cell_type": "code",
   "execution_count": 8,
   "metadata": {},
   "outputs": [],
   "source": [
    "valid_dataset = TransformerDataset(data=X_valid, labels=y_valid, indices=valid_indices, num_samples=num_valid_samples, enc_seq_len=enc_seq_len, target_seq_len=output_sequence_length)"
   ]
  },
  {
   "cell_type": "code",
   "execution_count": 9,
   "metadata": {},
   "outputs": [],
   "source": [
    "valid_data_loader = DataLoader(valid_dataset, batch_size)"
   ]
  },
  {
   "cell_type": "code",
   "execution_count": 10,
   "metadata": {},
   "outputs": [],
   "source": [
    "i, batch = next(enumerate(valid_data_loader))"
   ]
  },
  {
   "cell_type": "code",
   "execution_count": 11,
   "metadata": {},
   "outputs": [],
   "source": [
    "src, trg, trg_y = batch"
   ]
  },
  {
   "cell_type": "code",
   "execution_count": 12,
   "metadata": {},
   "outputs": [
    {
     "name": "stdout",
     "output_type": "stream",
     "text": [
      "torch.Size([128, 3, 16]) torch.Size([128, 1, 1]) torch.Size([128, 1])\n"
     ]
    }
   ],
   "source": [
    "print(src.shape, trg.shape, trg_y.shape)"
   ]
  },
  {
   "cell_type": "code",
   "execution_count": 13,
   "metadata": {},
   "outputs": [],
   "source": [
    "model = TimeSeriesTransformer(\n",
    "    input_size=len(input_variables),\n",
    "    dec_seq_len=enc_seq_len,\n",
    "    batch_first=batch_first,\n",
    "    num_predicted_features=1\n",
    "    )"
   ]
  },
  {
   "cell_type": "code",
   "execution_count": 14,
   "metadata": {},
   "outputs": [],
   "source": [
    "# Make src mask for decoder with size:\n",
    "# [batch_size*n_heads, output_sequence_length, enc_seq_len]\n",
    "src_mask = generate_square_subsequent_mask(\n",
    "    dim1=output_sequence_length,\n",
    "    dim2=enc_seq_len\n",
    "    )"
   ]
  },
  {
   "cell_type": "code",
   "execution_count": 15,
   "metadata": {},
   "outputs": [],
   "source": [
    "# Make tgt mask for decoder with size:\n",
    "# [batch_size*n_heads, output_sequence_length, output_sequence_length]\n",
    "tgt_mask = generate_square_subsequent_mask( \n",
    "    dim1=output_sequence_length,\n",
    "    dim2=output_sequence_length\n",
    "    )"
   ]
  },
  {
   "cell_type": "code",
   "execution_count": 16,
   "metadata": {},
   "outputs": [],
   "source": [
    "output = model(\n",
    "    src=src,\n",
    "    tgt=trg,\n",
    "    src_mask=src_mask,\n",
    "    tgt_mask=tgt_mask\n",
    "    )"
   ]
  },
  {
   "cell_type": "code",
   "execution_count": 19,
   "metadata": {},
   "outputs": [
    {
     "data": {
      "text/plain": [
       "tensor([[[ 7.6556e-01]],\n",
       "\n",
       "        [[ 7.1866e-01]],\n",
       "\n",
       "        [[ 1.1937e+00]],\n",
       "\n",
       "        [[ 2.1025e-01]],\n",
       "\n",
       "        [[ 3.7781e-01]],\n",
       "\n",
       "        [[ 4.6313e-01]],\n",
       "\n",
       "        [[ 5.0239e-01]],\n",
       "\n",
       "        [[-1.8414e-01]],\n",
       "\n",
       "        [[-8.5029e-02]],\n",
       "\n",
       "        [[ 3.7096e-02]],\n",
       "\n",
       "        [[ 5.1956e-01]],\n",
       "\n",
       "        [[ 6.6049e-01]],\n",
       "\n",
       "        [[ 1.1405e+00]],\n",
       "\n",
       "        [[ 1.0789e+00]],\n",
       "\n",
       "        [[ 1.0786e-01]],\n",
       "\n",
       "        [[ 2.9880e-01]],\n",
       "\n",
       "        [[ 3.8904e-01]],\n",
       "\n",
       "        [[ 7.8342e-01]],\n",
       "\n",
       "        [[ 8.8981e-01]],\n",
       "\n",
       "        [[ 7.3211e-01]],\n",
       "\n",
       "        [[ 1.5768e-02]],\n",
       "\n",
       "        [[ 1.9226e-01]],\n",
       "\n",
       "        [[ 4.9389e-01]],\n",
       "\n",
       "        [[ 1.8585e-01]],\n",
       "\n",
       "        [[ 7.5977e-01]],\n",
       "\n",
       "        [[ 2.0207e-01]],\n",
       "\n",
       "        [[ 5.5178e-01]],\n",
       "\n",
       "        [[ 1.5317e-01]],\n",
       "\n",
       "        [[ 4.6693e-01]],\n",
       "\n",
       "        [[ 6.4167e-01]],\n",
       "\n",
       "        [[-5.7679e-02]],\n",
       "\n",
       "        [[ 2.5332e-01]],\n",
       "\n",
       "        [[ 9.8534e-01]],\n",
       "\n",
       "        [[ 8.5729e-02]],\n",
       "\n",
       "        [[ 6.9226e-02]],\n",
       "\n",
       "        [[ 3.2191e-01]],\n",
       "\n",
       "        [[-8.4041e-02]],\n",
       "\n",
       "        [[ 3.7734e-01]],\n",
       "\n",
       "        [[-1.8637e-01]],\n",
       "\n",
       "        [[-2.6521e-01]],\n",
       "\n",
       "        [[-5.7698e-02]],\n",
       "\n",
       "        [[-9.5865e-02]],\n",
       "\n",
       "        [[ 2.2903e-01]],\n",
       "\n",
       "        [[ 2.4397e-01]],\n",
       "\n",
       "        [[ 1.1546e-02]],\n",
       "\n",
       "        [[-3.3265e-01]],\n",
       "\n",
       "        [[-4.0902e-01]],\n",
       "\n",
       "        [[ 1.7144e-01]],\n",
       "\n",
       "        [[-1.1989e-01]],\n",
       "\n",
       "        [[ 5.9062e-02]],\n",
       "\n",
       "        [[-6.2086e-02]],\n",
       "\n",
       "        [[ 2.4842e-01]],\n",
       "\n",
       "        [[ 2.7568e-01]],\n",
       "\n",
       "        [[ 4.5302e-02]],\n",
       "\n",
       "        [[ 3.8618e-01]],\n",
       "\n",
       "        [[ 3.4363e-01]],\n",
       "\n",
       "        [[ 5.6959e-01]],\n",
       "\n",
       "        [[ 4.2775e-01]],\n",
       "\n",
       "        [[ 2.2369e-01]],\n",
       "\n",
       "        [[ 1.3778e+00]],\n",
       "\n",
       "        [[-2.7364e-01]],\n",
       "\n",
       "        [[ 1.7636e-02]],\n",
       "\n",
       "        [[ 3.6956e-01]],\n",
       "\n",
       "        [[ 3.4556e-02]],\n",
       "\n",
       "        [[-3.8270e-02]],\n",
       "\n",
       "        [[-1.1516e-01]],\n",
       "\n",
       "        [[-5.1823e-01]],\n",
       "\n",
       "        [[-1.2027e-01]],\n",
       "\n",
       "        [[-4.6205e-01]],\n",
       "\n",
       "        [[-3.5817e-01]],\n",
       "\n",
       "        [[-5.8711e-01]],\n",
       "\n",
       "        [[-4.1092e-01]],\n",
       "\n",
       "        [[-2.5480e-01]],\n",
       "\n",
       "        [[-2.9759e-01]],\n",
       "\n",
       "        [[-5.1054e-01]],\n",
       "\n",
       "        [[ 4.1286e-01]],\n",
       "\n",
       "        [[-1.7485e-01]],\n",
       "\n",
       "        [[ 9.6511e-01]],\n",
       "\n",
       "        [[-1.9814e-01]],\n",
       "\n",
       "        [[-1.9543e-01]],\n",
       "\n",
       "        [[ 8.7376e-02]],\n",
       "\n",
       "        [[-6.1424e-01]],\n",
       "\n",
       "        [[-6.2051e-01]],\n",
       "\n",
       "        [[-2.3211e-01]],\n",
       "\n",
       "        [[ 1.8395e-01]],\n",
       "\n",
       "        [[ 4.2877e-01]],\n",
       "\n",
       "        [[ 4.4179e-01]],\n",
       "\n",
       "        [[-1.2494e-01]],\n",
       "\n",
       "        [[-1.5617e-01]],\n",
       "\n",
       "        [[-5.6826e-01]],\n",
       "\n",
       "        [[-6.8969e-01]],\n",
       "\n",
       "        [[ 2.0271e-02]],\n",
       "\n",
       "        [[-5.9279e-02]],\n",
       "\n",
       "        [[ 3.2300e-01]],\n",
       "\n",
       "        [[ 9.6490e-02]],\n",
       "\n",
       "        [[ 7.0146e-02]],\n",
       "\n",
       "        [[-3.6897e-01]],\n",
       "\n",
       "        [[-4.8053e-01]],\n",
       "\n",
       "        [[ 6.3373e-01]],\n",
       "\n",
       "        [[-3.4565e-01]],\n",
       "\n",
       "        [[-9.9379e-04]],\n",
       "\n",
       "        [[ 3.2666e-02]],\n",
       "\n",
       "        [[-3.3465e-01]],\n",
       "\n",
       "        [[-6.7364e-01]],\n",
       "\n",
       "        [[-9.7108e-01]],\n",
       "\n",
       "        [[-4.7142e-02]],\n",
       "\n",
       "        [[-2.4123e-01]],\n",
       "\n",
       "        [[-2.9870e-01]],\n",
       "\n",
       "        [[ 4.4852e-01]],\n",
       "\n",
       "        [[ 2.1787e-02]],\n",
       "\n",
       "        [[ 4.1386e-01]],\n",
       "\n",
       "        [[ 8.6972e-01]],\n",
       "\n",
       "        [[-4.6547e-01]],\n",
       "\n",
       "        [[-4.7953e-01]],\n",
       "\n",
       "        [[ 3.9245e-01]],\n",
       "\n",
       "        [[ 3.7722e-01]],\n",
       "\n",
       "        [[ 6.1978e-01]],\n",
       "\n",
       "        [[ 7.3756e-01]],\n",
       "\n",
       "        [[ 8.1755e-01]],\n",
       "\n",
       "        [[ 4.1122e-01]],\n",
       "\n",
       "        [[-4.0314e-01]],\n",
       "\n",
       "        [[ 1.0255e+00]],\n",
       "\n",
       "        [[-3.1148e-02]],\n",
       "\n",
       "        [[-5.2075e-02]],\n",
       "\n",
       "        [[ 1.7916e-02]],\n",
       "\n",
       "        [[-1.3396e-01]],\n",
       "\n",
       "        [[ 1.4896e-01]],\n",
       "\n",
       "        [[ 3.1699e-02]]], grad_fn=<AddBackward0>)"
      ]
     },
     "execution_count": 19,
     "metadata": {},
     "output_type": "execute_result"
    }
   ],
   "source": [
    "output"
   ]
  },
  {
   "cell_type": "code",
   "execution_count": 36,
   "metadata": {},
   "outputs": [],
   "source": [
    "prev_len = len(X_train[0]) + len(X_train[1])"
   ]
  },
  {
   "cell_type": "code",
   "execution_count": 37,
   "metadata": {},
   "outputs": [
    {
     "data": {
      "text/plain": [
       "34"
      ]
     },
     "execution_count": 37,
     "metadata": {},
     "output_type": "execute_result"
    }
   ],
   "source": [
    "prev_len"
   ]
  },
  {
   "cell_type": "code",
   "execution_count": 38,
   "metadata": {},
   "outputs": [],
   "source": [
    "sample_id = 7\n",
    "start_pos, end_pos = train_indices_patient[sample_id]"
   ]
  },
  {
   "cell_type": "code",
   "execution_count": 65,
   "metadata": {},
   "outputs": [
    {
     "data": {
      "text/plain": [
       "tensor([[221.],\n",
       "        [251.],\n",
       "        [215.],\n",
       "        [190.]], dtype=torch.float64)"
      ]
     },
     "execution_count": 65,
     "metadata": {},
     "output_type": "execute_result"
    }
   ],
   "source": [
    "y_train_patient[start_pos:end_pos]"
   ]
  },
  {
   "cell_type": "code",
   "execution_count": 45,
   "metadata": {},
   "outputs": [
    {
     "data": {
      "text/plain": [
       "True"
      ]
     },
     "execution_count": 45,
     "metadata": {},
     "output_type": "execute_result"
    }
   ],
   "source": [
    "torch.equal(stacked_train[prev_len+start_pos:prev_len+end_pos], X_train_patient[start_pos:end_pos])"
   ]
  }
 ],
 "metadata": {
  "kernelspec": {
   "display_name": "Python 3.8.13 ('glycemic')",
   "language": "python",
   "name": "python3"
  },
  "language_info": {
   "codemirror_mode": {
    "name": "ipython",
    "version": 3
   },
   "file_extension": ".py",
   "mimetype": "text/x-python",
   "name": "python",
   "nbconvert_exporter": "python",
   "pygments_lexer": "ipython3",
   "version": "3.8.13"
  },
  "orig_nbformat": 4,
  "vscode": {
   "interpreter": {
    "hash": "6d0dcae67a12b8b9619dd471b03512d94702322f3cad871ea227bbeeb7b51bb5"
   }
  }
 },
 "nbformat": 4,
 "nbformat_minor": 2
}
