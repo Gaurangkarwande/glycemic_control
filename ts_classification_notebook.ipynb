{
 "cells": [
  {
   "cell_type": "code",
   "execution_count": 1,
   "metadata": {},
   "outputs": [],
   "source": [
    "import pandas as pd\n",
    "import yaml\n",
    "import torch\n",
    "\n",
    "from src.constants import CONTINUOUS_COVARIATES_PROCESSED, STATIC_COLS, TARGET_COL\n",
    "from src.dataset import df_to_patient_tensors, GraphClassificationDataset, build_classification_datasets\n",
    "\n",
    "from torch.nn.utils.rnn import pad_sequence, pack_padded_sequence\n",
    "\n",
    "from torch_geometric.loader import DataLoader\n",
    "from torch_geometric.nn import GATConv\n",
    "from torch_geometric.utils import remove_self_loops\n",
    "\n",
    "from src.utils import dag_fully_connected\n",
    "from src.models.temporal_gnn import GraphClassification, LSTMClassification"
   ]
  },
  {
   "cell_type": "code",
   "execution_count": 2,
   "metadata": {},
   "outputs": [],
   "source": [
    "fpath_train = \"/home/gaurang/glycemic_control/data/glycaemia_project_csvs/processed_data/train_test_splits/v4_patient_split_mini/train_mini.csv\"\n",
    "fpath_valid = \"/home/gaurang/glycemic_control/data/glycaemia_project_csvs/processed_data/train_test_splits/v4_patient_split_mini/valid_mini.csv\"\n",
    "fpath_test = \"/home/gaurang/glycemic_control/data/glycaemia_project_csvs/processed_data/train_test_splits/v4_patient_split_mini/test_mini.csv\"\n",
    "\n",
    "fpath_config = \"/home/gaurang/glycemic_control/code/src/config.yaml\""
   ]
  },
  {
   "cell_type": "code",
   "execution_count": 3,
   "metadata": {},
   "outputs": [
    {
     "data": {
      "text/plain": [
       "{'lstm_input_dim': 1,\n",
       " 'lstm_hidden_dim': 32,\n",
       " 'lstm_num_layers': 5,\n",
       " 'gnn_hidden_dim': 128,\n",
       " 'gnn_out_dim': 256,\n",
       " 'fc_hidden_dim': 256,\n",
       " 'dropout': 0.7,\n",
       " 'gat_heads': 4,\n",
       " 'num_classes': 2,\n",
       " 'batch_size_train': 64,\n",
       " 'batch_size_val': 64,\n",
       " 'batch_size_test': 64,\n",
       " 'num_epochs': 50,\n",
       " 'patience': 10,\n",
       " 'min_delta': 1e-05,\n",
       " 'lr': 0.01}"
      ]
     },
     "execution_count": 3,
     "metadata": {},
     "output_type": "execute_result"
    }
   ],
   "source": [
    "df_train = pd.read_csv(fpath_train)\n",
    "df_valid = pd.read_csv(fpath_valid)\n",
    "df_test = pd.read_csv(fpath_test)\n",
    "\n",
    "with open(fpath_config, 'r') as f:\n",
    "    config = yaml.load(f, Loader=yaml.Loader)\n",
    "config"
   ]
  },
  {
   "cell_type": "code",
   "execution_count": 4,
   "metadata": {},
   "outputs": [],
   "source": [
    "patient_tensors, patient_seq_lens, target_labels = df_to_patient_tensors(\n",
    "        df_train,\n",
    "        feature_cols=CONTINUOUS_COVARIATES_PROCESSED + STATIC_COLS,\n",
    "        target_col=TARGET_COL,\n",
    "    )\n",
    "\n",
    "patient_tensors = pad_sequence(patient_tensors, batch_first=True)\n"
   ]
  },
  {
   "cell_type": "code",
   "execution_count": 5,
   "metadata": {},
   "outputs": [],
   "source": [
    "init_mat_adj = dag_fully_connected(num_nodes=16, add_self_loops=False)"
   ]
  },
  {
   "cell_type": "code",
   "execution_count": 6,
   "metadata": {},
   "outputs": [],
   "source": [
    "dataset = GraphClassificationDataset(patient_tensors, patient_seq_lens, target_labels, init_adj_mat=init_mat_adj)"
   ]
  },
  {
   "cell_type": "code",
   "execution_count": 7,
   "metadata": {},
   "outputs": [],
   "source": [
    "loader = DataLoader(dataset, batch_size=2)"
   ]
  },
  {
   "cell_type": "code",
   "execution_count": 8,
   "metadata": {},
   "outputs": [
    {
     "data": {
      "text/plain": [
       "DataBatch(x=[14, 24], edge_index=[2, 480], edge_attr=[480, 1], y=[2], seq_lens=[2], batch=[14], ptr=[3])"
      ]
     },
     "execution_count": 8,
     "metadata": {},
     "output_type": "execute_result"
    }
   ],
   "source": [
    "it = iter(loader)\n",
    "batch = next(it)\n",
    "batch"
   ]
  },
  {
   "cell_type": "code",
   "execution_count": 9,
   "metadata": {},
   "outputs": [
    {
     "data": {
      "text/plain": [
       "tensor([1, 1])"
      ]
     },
     "execution_count": 9,
     "metadata": {},
     "output_type": "execute_result"
    }
   ],
   "source": [
    "batch.y"
   ]
  },
  {
   "cell_type": "code",
   "execution_count": 10,
   "metadata": {},
   "outputs": [],
   "source": [
    "dataset_train, dataset_val, dataset_test = build_classification_datasets(\n",
    "        df_train=df_train,\n",
    "        df_val=df_valid,\n",
    "        df_test=df_test,\n",
    "        feature_cols=CONTINUOUS_COVARIATES_PROCESSED,\n",
    "        target_col=TARGET_COL,\n",
    "    )"
   ]
  },
  {
   "cell_type": "code",
   "execution_count": 11,
   "metadata": {},
   "outputs": [],
   "source": [
    "loader = torch.utils.data.DataLoader(dataset_train, batch_size=2)\n",
    "it = iter(loader)\n",
    "batch = next(it)\n",
    "x, y, seq_lens = batch"
   ]
  },
  {
   "cell_type": "code",
   "execution_count": 12,
   "metadata": {},
   "outputs": [
    {
     "data": {
      "text/plain": [
       "tensor([[[-0.8244, -0.6240, -0.1155,  0.7369,  0.9792,  0.8945,  1.0972,\n",
       "           1.9676,  1.7440,  1.6664,  1.7042,  1.1466, -0.0492, -0.0633,\n",
       "           0.5351,  0.5048,  0.4311,  0.3404,  1.5141,  0.8249,  0.1092,\n",
       "          -0.8244,  0.0000,  0.0000],\n",
       "         [-0.4491, -0.3683, -0.0417,  1.6283,  2.4366,  3.6446,  4.0667,\n",
       "           3.4946,  2.7069,  2.1011,  0.9488,  0.3014,  0.2205,  0.0923,\n",
       "           0.0569,  0.0569,  0.0417, -0.0595, -0.1607, -0.2619, -0.4491,\n",
       "          -0.4491,  0.0000,  0.0000],\n",
       "         [ 0.9747,  0.6709,  2.7215,  2.6962,  2.4177,  2.0886,  1.6329,\n",
       "           3.5316,  0.4177,  0.1392,  0.4684, -0.2152, -1.0506, -0.7722,\n",
       "          -0.2658,  0.0127, -0.2911, -0.5190, -0.7215, -0.3165,  1.7342,\n",
       "           0.6962,  0.0000,  0.0000]],\n",
       "\n",
       "        [[-0.8244, -0.8244, -0.8244, -0.6866, -0.5797, -0.4738, -0.3118,\n",
       "          -0.2262,  0.3454,  0.3336,  0.2766,  0.2960, -0.3124, -0.3102,\n",
       "          -0.2992, -0.2992,  3.3921, -0.5101,  0.1186,  2.6333,  0.1186,\n",
       "           3.1363, -0.6421, -0.8244],\n",
       "         [-0.4491, -0.4491, -0.4491, -0.1596,  0.0424,  0.2444,  0.4464,\n",
       "           0.6483,  1.1367,  1.3623,  1.3926,  1.1906,  0.6552,  0.2107,\n",
       "          -0.2168, -0.4491, -0.4491, -0.4491, -0.4491, -0.4491, -0.4491,\n",
       "          -0.4491, -0.4491, -0.4491],\n",
       "         [-0.9747, -0.0886,  0.7975,  0.8734,  1.1013,  1.3038,  0.5949,\n",
       "           0.5443,  0.4430,  0.4430,  0.5696, -0.3924, -0.8481, -0.6962,\n",
       "          -0.4937,  0.3165,  0.4684,  0.9494, -0.0127, -0.5443,  0.3924,\n",
       "           2.4430,  2.3165,  2.4937]]])"
      ]
     },
     "execution_count": 12,
     "metadata": {},
     "output_type": "execute_result"
    }
   ],
   "source": [
    "x"
   ]
  },
  {
   "cell_type": "code",
   "execution_count": 13,
   "metadata": {},
   "outputs": [],
   "source": [
    "model = GraphClassification(config, num_nodes=16, pretraining=False)\n",
    "model_lstm = LSTMClassification(config)"
   ]
  },
  {
   "cell_type": "code",
   "execution_count": 14,
   "metadata": {},
   "outputs": [
    {
     "data": {
      "text/plain": [
       "tensor([[-0.0621,  0.0656],\n",
       "        [-0.0275,  0.0468]], grad_fn=<AddmmBackward0>)"
      ]
     },
     "execution_count": 14,
     "metadata": {},
     "output_type": "execute_result"
    }
   ],
   "source": [
    "out = model_lstm(x, seq_lens)\n",
    "out"
   ]
  },
  {
   "cell_type": "code",
   "execution_count": 15,
   "metadata": {},
   "outputs": [
    {
     "data": {
      "text/plain": [
       "tensor(0.6440, grad_fn=<NllLossBackward0>)"
      ]
     },
     "execution_count": 15,
     "metadata": {},
     "output_type": "execute_result"
    }
   ],
   "source": [
    "loss = torch.nn.CrossEntropyLoss()\n",
    "loss(out, y)"
   ]
  },
  {
   "cell_type": "code",
   "execution_count": 17,
   "metadata": {},
   "outputs": [
    {
     "data": {
      "text/plain": [
       "torch.Size([2, 2])"
      ]
     },
     "execution_count": 17,
     "metadata": {},
     "output_type": "execute_result"
    }
   ],
   "source": [
    "gnn_input[0].shape"
   ]
  },
  {
   "cell_type": "code",
   "execution_count": 16,
   "metadata": {},
   "outputs": [
    {
     "data": {
      "text/plain": [
       "torch.return_types.max(\n",
       "values=tensor([0.0656, 0.0468], grad_fn=<MaxBackward0>),\n",
       "indices=tensor([1, 1]))"
      ]
     },
     "execution_count": 16,
     "metadata": {},
     "output_type": "execute_result"
    }
   ],
   "source": [
    "torch.max(out, 1)"
   ]
  },
  {
   "cell_type": "code",
   "execution_count": 17,
   "metadata": {},
   "outputs": [],
   "source": [
    "out = model.gnn(gnn_input, 1, data.edge_index)"
   ]
  },
  {
   "cell_type": "code",
   "execution_count": 18,
   "metadata": {},
   "outputs": [
    {
     "data": {
      "text/plain": [
       "torch.Size([1, 16])"
      ]
     },
     "execution_count": 18,
     "metadata": {},
     "output_type": "execute_result"
    }
   ],
   "source": [
    "out[0].shape"
   ]
  },
  {
   "cell_type": "code",
   "execution_count": 20,
   "metadata": {},
   "outputs": [
    {
     "data": {
      "text/plain": [
       "tensor([[-0.0421,  0.0925]], grad_fn=<AddmmBackward0>)"
      ]
     },
     "execution_count": 20,
     "metadata": {},
     "output_type": "execute_result"
    }
   ],
   "source": [
    "model.fc(out[0])"
   ]
  },
  {
   "cell_type": "code",
   "execution_count": 22,
   "metadata": {},
   "outputs": [],
   "source": [
    "data = batch\n",
    "\n",
    "x = data.x\n",
    "edge_index = data.edge_index\n",
    "edge_attr = data.edge_attr\n",
    "seq_lens = data.seq_lens\n",
    "\n",
    "x = x.view(2, -1, 16)\n",
    "x = pack_padded_sequence(x[:, :, 3], seq_lens, batch_first=True)"
   ]
  },
  {
   "cell_type": "code",
   "execution_count": 23,
   "metadata": {},
   "outputs": [
    {
     "data": {
      "text/plain": [
       "torch.Size([46, 3])"
      ]
     },
     "execution_count": 23,
     "metadata": {},
     "output_type": "execute_result"
    }
   ],
   "source": [
    "x.data.shape"
   ]
  },
  {
   "cell_type": "code",
   "execution_count": 56,
   "metadata": {},
   "outputs": [
    {
     "data": {
      "text/plain": [
       "torch.Size([22, 16])"
      ]
     },
     "execution_count": 56,
     "metadata": {},
     "output_type": "execute_result"
    }
   ],
   "source": [
    "s = data.x[:data.seq_len]\n",
    "s.shape"
   ]
  },
  {
   "cell_type": "code",
   "execution_count": 51,
   "metadata": {},
   "outputs": [
    {
     "ename": "RuntimeError",
     "evalue": "Expected `len(lengths)` to be equal to batch_size, but got 2 (batch_size=1)",
     "output_type": "error",
     "traceback": [
      "\u001b[0;31m---------------------------------------------------------------------------\u001b[0m",
      "\u001b[0;31mRuntimeError\u001b[0m                              Traceback (most recent call last)",
      "\u001b[1;32m/home/gaurang/glycemic_control/code/ts_classification_notebook.ipynb Cell 17\u001b[0m in \u001b[0;36m<cell line: 1>\u001b[0;34m()\u001b[0m\n\u001b[0;32m----> <a href='vscode-notebook-cell://ssh-remote%2Bplanlab/home/gaurang/glycemic_control/code/ts_classification_notebook.ipynb#X43sdnNjb2RlLXJlbW90ZQ%3D%3D?line=0'>1</a>\u001b[0m s \u001b[39m=\u001b[39m pack_padded_sequence(s, seq_lens, batch_first\u001b[39m=\u001b[39;49m\u001b[39mTrue\u001b[39;49;00m)\n",
      "File \u001b[0;32m~/anaconda3/envs/gnn/lib/python3.10/site-packages/torch/nn/utils/rnn.py:262\u001b[0m, in \u001b[0;36mpack_padded_sequence\u001b[0;34m(input, lengths, batch_first, enforce_sorted)\u001b[0m\n\u001b[1;32m    258\u001b[0m     batch_dim \u001b[39m=\u001b[39m \u001b[39m0\u001b[39m \u001b[39mif\u001b[39;00m batch_first \u001b[39melse\u001b[39;00m \u001b[39m1\u001b[39m\n\u001b[1;32m    259\u001b[0m     \u001b[39minput\u001b[39m \u001b[39m=\u001b[39m \u001b[39minput\u001b[39m\u001b[39m.\u001b[39mindex_select(batch_dim, sorted_indices)\n\u001b[1;32m    261\u001b[0m data, batch_sizes \u001b[39m=\u001b[39m \\\n\u001b[0;32m--> 262\u001b[0m     _VF\u001b[39m.\u001b[39;49m_pack_padded_sequence(\u001b[39minput\u001b[39;49m, lengths, batch_first)\n\u001b[1;32m    263\u001b[0m \u001b[39mreturn\u001b[39;00m _packed_sequence_init(data, batch_sizes, sorted_indices, \u001b[39mNone\u001b[39;00m)\n",
      "\u001b[0;31mRuntimeError\u001b[0m: Expected `len(lengths)` to be equal to batch_size, but got 2 (batch_size=1)"
     ]
    }
   ],
   "source": [
    "s = pack_padded_sequence(s, seq_lens, batch_first=True)"
   ]
  },
  {
   "cell_type": "code",
   "execution_count": 37,
   "metadata": {},
   "outputs": [
    {
     "data": {
      "text/plain": [
       "torch.Size([4, 2, 64])"
      ]
     },
     "execution_count": 37,
     "metadata": {},
     "output_type": "execute_result"
    }
   ],
   "source": [
    "out, (hn,cn) = lstm(x)\n",
    "hn.shape"
   ]
  },
  {
   "cell_type": "code",
   "execution_count": 39,
   "metadata": {},
   "outputs": [
    {
     "data": {
      "text/plain": [
       "torch.Size([4, 2, 64])"
      ]
     },
     "execution_count": 39,
     "metadata": {},
     "output_type": "execute_result"
    }
   ],
   "source": [
    "hn.size()"
   ]
  },
  {
   "cell_type": "code",
   "execution_count": 58,
   "metadata": {},
   "outputs": [
    {
     "data": {
      "text/plain": [
       "False"
      ]
     },
     "execution_count": 58,
     "metadata": {},
     "output_type": "execute_result"
    }
   ],
   "source": [
    "import torch_geometric\n",
    "\n",
    "\n",
    "isinstance(data, torch_geometric.data.batch.Batch)"
   ]
  }
 ],
 "metadata": {
  "kernelspec": {
   "display_name": "gnn",
   "language": "python",
   "name": "python3"
  },
  "language_info": {
   "codemirror_mode": {
    "name": "ipython",
    "version": 3
   },
   "file_extension": ".py",
   "mimetype": "text/x-python",
   "name": "python",
   "nbconvert_exporter": "python",
   "pygments_lexer": "ipython3",
   "version": "3.10.9"
  },
  "orig_nbformat": 4,
  "vscode": {
   "interpreter": {
    "hash": "0e51103ac6c53fe55de20f4620cfe6b8fd548af295bbf13940f7844378471672"
   }
  }
 },
 "nbformat": 4,
 "nbformat_minor": 2
}
