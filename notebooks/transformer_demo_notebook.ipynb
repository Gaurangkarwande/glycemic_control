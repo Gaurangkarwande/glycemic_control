{
 "cells": [
  {
   "cell_type": "code",
   "execution_count": 2,
   "metadata": {},
   "outputs": [],
   "source": [
    "import sys\n",
    "sys.path.insert(2, '/home/gaurang/glycemic_control/code/src/')"
   ]
  },
  {
   "cell_type": "code",
   "execution_count": 3,
   "metadata": {},
   "outputs": [],
   "source": [
    "import src.dataset_old as ds\n",
    "import src.utils as utils\n",
    "from torch.utils.data import DataLoader\n",
    "import torch\n",
    "import datetime\n",
    "import src.models.transformer as tst\n",
    "import numpy as np\n",
    "\n",
    "from pathlib import Path"
   ]
  },
  {
   "cell_type": "code",
   "execution_count": 4,
   "metadata": {},
   "outputs": [],
   "source": [
    "# Hyperparams\n",
    "test_size = 0.1\n",
    "batch_size = 128\n",
    "target_col_name = \"FCR_N_PriceEUR\"\n",
    "timestamp_col = \"timestamp\"\n",
    "# Only use data from this date and onwards\n",
    "cutoff_date = datetime.datetime(2017, 1, 1) \n",
    "\n",
    "## Params\n",
    "dim_val = 512\n",
    "n_heads = 8\n",
    "n_decoder_layers = 4\n",
    "n_encoder_layers = 4\n",
    "enc_seq_len = 153 # length of input given to encoder\n",
    "output_sequence_length = 48 # target sequence length. If hourly data and length = 48, you predict 2 days ahead\n",
    "window_size = enc_seq_len + output_sequence_length # used to slice data into sub-sequences\n",
    "step_size = 1 # Step size, i.e. how many time steps does the moving window move at each step\n",
    "in_features_encoder_linear_layer = 2048\n",
    "in_features_decoder_linear_layer = 2048\n",
    "max_seq_len = enc_seq_len\n",
    "batch_first = True"
   ]
  },
  {
   "cell_type": "code",
   "execution_count": 5,
   "metadata": {},
   "outputs": [],
   "source": [
    "# Define input variables \n",
    "exogenous_vars = [] # should contain strings. Each string must correspond to a column name\n",
    "input_variables = [target_col_name] + exogenous_vars\n",
    "target_idx = 0 # index position of target in batched trg_y\n",
    "\n",
    "input_size = len(input_variables)"
   ]
  },
  {
   "cell_type": "code",
   "execution_count": 6,
   "metadata": {},
   "outputs": [
    {
     "name": "stdout",
     "output_type": "stream",
     "text": [
      "Reading file in /home/gaurang/glycemic_control/data/glycaemia_project_csvs/test_data.csv\n"
     ]
    }
   ],
   "source": [
    "# Read data\n",
    "data = utils.read_data(fpath_data=Path('/home/gaurang/glycemic_control/data/glycaemia_project_csvs/test_data.csv'), timestamp_col_name=timestamp_col)\n",
    "\n",
    "# Remove test data from dataset\n",
    "training_data = data[:-(round(len(data)*test_size))]"
   ]
  },
  {
   "cell_type": "code",
   "execution_count": 7,
   "metadata": {},
   "outputs": [],
   "source": [
    "# Make list of (start_idx, end_idx) pairs that are used to slice the time series sequence into chunkc. \n",
    "# Should be training data indices only\n",
    "training_indices = utils.get_indices_entire_sequence(\n",
    "    data=training_data, \n",
    "    window_size=window_size, \n",
    "    step_size=step_size)"
   ]
  },
  {
   "cell_type": "code",
   "execution_count": 8,
   "metadata": {},
   "outputs": [
    {
     "name": "stdout",
     "output_type": "stream",
     "text": [
      "From get_src_trg: data size = torch.Size([41387, 1])\n"
     ]
    }
   ],
   "source": [
    "# Making instance of custom dataset class\n",
    "training_data = ds.TransformerDataset(\n",
    "    data=torch.tensor(training_data[input_variables].values).float(),\n",
    "    indices=training_indices,\n",
    "    enc_seq_len=enc_seq_len,\n",
    "    target_seq_len=output_sequence_length\n",
    "    )"
   ]
  },
  {
   "cell_type": "code",
   "execution_count": 9,
   "metadata": {},
   "outputs": [],
   "source": [
    "# Making dataloader\n",
    "training_data = DataLoader(training_data, batch_size)\n",
    "\n",
    "i, batch = next(enumerate(training_data))\n",
    "\n",
    "src, trg, trg_y = batch"
   ]
  },
  {
   "cell_type": "code",
   "execution_count": 12,
   "metadata": {},
   "outputs": [
    {
     "data": {
      "text/plain": [
       "torch.Size([128, 48])"
      ]
     },
     "execution_count": 12,
     "metadata": {},
     "output_type": "execute_result"
    }
   ],
   "source": [
    "trg_y.shape"
   ]
  },
  {
   "cell_type": "code",
   "execution_count": 9,
   "metadata": {},
   "outputs": [],
   "source": [
    "model = tst.TimeSeriesTransformer(\n",
    "    input_size=len(input_variables),\n",
    "    dec_seq_len=enc_seq_len,\n",
    "    batch_first=batch_first,\n",
    "    num_predicted_features=1\n",
    "    )"
   ]
  },
  {
   "cell_type": "code",
   "execution_count": 10,
   "metadata": {},
   "outputs": [],
   "source": [
    "# Make src mask for decoder with size:\n",
    "# [batch_size*n_heads, output_sequence_length, enc_seq_len]\n",
    "src_mask = utils.generate_square_subsequent_mask(\n",
    "    dim1=output_sequence_length,\n",
    "    dim2=enc_seq_len\n",
    "    )"
   ]
  },
  {
   "cell_type": "code",
   "execution_count": 12,
   "metadata": {},
   "outputs": [],
   "source": [
    "# Make tgt mask for decoder with size:\n",
    "# [batch_size*n_heads, output_sequence_length, output_sequence_length]\n",
    "tgt_mask = utils.generate_square_subsequent_mask( \n",
    "    dim1=output_sequence_length,\n",
    "    dim2=output_sequence_length\n",
    "    )"
   ]
  },
  {
   "cell_type": "code",
   "execution_count": 13,
   "metadata": {},
   "outputs": [],
   "source": [
    "output = model(\n",
    "    src=src,\n",
    "    tgt=trg,\n",
    "    src_mask=src_mask,\n",
    "    tgt_mask=tgt_mask\n",
    "    )"
   ]
  },
  {
   "cell_type": "code",
   "execution_count": 14,
   "metadata": {},
   "outputs": [
    {
     "data": {
      "text/plain": [
       "torch.Size([128, 48, 1])"
      ]
     },
     "execution_count": 14,
     "metadata": {},
     "output_type": "execute_result"
    }
   ],
   "source": [
    "output.shape"
   ]
  },
  {
   "cell_type": "code",
   "execution_count": 16,
   "metadata": {},
   "outputs": [
    {
     "data": {
      "text/plain": [
       "tensor([[-0.9502],\n",
       "        [-0.7927],\n",
       "        [-0.7944],\n",
       "        [-0.6271],\n",
       "        [-0.4181],\n",
       "        [-1.0290],\n",
       "        [-0.3800],\n",
       "        [-0.3112],\n",
       "        [-0.5555],\n",
       "        [-0.0844],\n",
       "        [-0.8001],\n",
       "        [-0.9051],\n",
       "        [-0.8896],\n",
       "        [-0.7853],\n",
       "        [-0.6157],\n",
       "        [-0.4375],\n",
       "        [-0.6047],\n",
       "        [-0.6153],\n",
       "        [-0.6599],\n",
       "        [-0.6641],\n",
       "        [-0.2943],\n",
       "        [-0.3266],\n",
       "        [-0.3369],\n",
       "        [-0.2158],\n",
       "        [-0.5407],\n",
       "        [-0.5734],\n",
       "        [-0.4010],\n",
       "        [-0.2437],\n",
       "        [-0.5715],\n",
       "        [-0.5381],\n",
       "        [-0.3746],\n",
       "        [-0.3853],\n",
       "        [-0.4931],\n",
       "        [-0.4329],\n",
       "        [-0.6245],\n",
       "        [-0.1371],\n",
       "        [-0.4367],\n",
       "        [-0.7469],\n",
       "        [-0.4439],\n",
       "        [-0.5834],\n",
       "        [-0.4872],\n",
       "        [-0.2352],\n",
       "        [-0.8837],\n",
       "        [-0.6376],\n",
       "        [-0.5532],\n",
       "        [-0.1492],\n",
       "        [-0.9295],\n",
       "        [-0.0112]], grad_fn=<SelectBackward0>)"
      ]
     },
     "execution_count": 16,
     "metadata": {},
     "output_type": "execute_result"
    }
   ],
   "source": []
  }
 ],
 "metadata": {
  "kernelspec": {
   "display_name": "Python 3.8.13 ('glycemic')",
   "language": "python",
   "name": "python3"
  },
  "language_info": {
   "codemirror_mode": {
    "name": "ipython",
    "version": 3
   },
   "file_extension": ".py",
   "mimetype": "text/x-python",
   "name": "python",
   "nbconvert_exporter": "python",
   "pygments_lexer": "ipython3",
   "version": "3.8.13"
  },
  "orig_nbformat": 4,
  "vscode": {
   "interpreter": {
    "hash": "6d0dcae67a12b8b9619dd471b03512d94702322f3cad871ea227bbeeb7b51bb5"
   }
  }
 },
 "nbformat": 4,
 "nbformat_minor": 2
}
